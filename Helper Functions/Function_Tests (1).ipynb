{
 "cells": [
  {
   "cell_type": "code",
   "execution_count": 2,
   "metadata": {},
   "outputs": [
    {
     "name": "stdout",
     "output_type": "stream",
     "text": [
      "<_io.TextIOWrapper name='translated_transcripts1/transcript_results/mc1.mp3.txt.txt' mode='r' encoding='utf-8'>\n",
      "[मैं जेनी हूँ मैं जेसन अच्छा तुम भी पूरा करने के लिए आप अच्छा पूरा करने के लिए कर रहा हूँ]\n"
     ]
    }
   ],
   "source": [
    "# import unicode\n",
    "import io\n",
    "\n",
    "with io.open('translated_transcripts1/transcript_results/mc1.mp3.txt.txt', 'r', encoding='utf-8') as infile:\n",
    "    print(infile)\n",
    "    print(infile.read())\n",
    "#     text = infile.read()\n",
    "#     text = text[1:-1]\n",
    "#     text = ''+text+''\n",
    "#     polo = text.split(' ')\n",
    "#     print(type(polo))\n",
    "#     print(polo[2].encode())\n",
    "    \n",
    "#     text = text.encode('utf-8').decode()\n",
    "#     olo = \"\\u092e\\u0948\\u0902 \\u091c\\u0947\\u0928\\u0940 \\u0939\\u0942\\u0901 \\u092e\\u0948\\u0902 \\u091c\\u0947\\u0938\\u0928 \\u0905\\u091a\\u094d\\u091b\\u093e \\u0924\\u0941\\u092e \\u092d\\u0940 \\u092a\\u0942\\u0930\\u093e \\u0915\\u0930\\u0928\\u0947 \\u0915\\u0947 \\u0932\\u093f\\u090f \\u0906\\u092a \\u0905\\u091a\\u094d\\u091b\\u093e \\u092a\\u0942\\u0930\\u093e \\u0915\\u0930\\u0928\\u0947 \\u0915\\u0947 \\u0932\\u093f\\u090f \\u0915\\u0930 \\u0930\\u0939\\u093e \\u0939\\u0942\\u0901\"\n",
    "#     text = text[2:-2]\n",
    "#     text = unicode(text, 'utf-8')\n",
    "#     print(type(text))\n",
    "#     print(text)\n",
    "#     un = text.decode()\n",
    "#     print(un)"
   ]
  },
  {
   "cell_type": "code",
   "execution_count": 32,
   "metadata": {},
   "outputs": [
    {
     "name": "stdout",
     "output_type": "stream",
     "text": [
      "b'\\'[\"\\\\\\\\u092e\\\\\\\\u0948\\\\\\\\u0902 \\\\\\\\u091c\\\\\\\\u0947\\\\\\\\u0928\\\\\\\\u0940 \\\\\\\\u0939\\\\\\\\u0942\\\\\\\\u0901 \\\\\\\\u092e\\\\\\\\u0948\\\\\\\\u0902 \\\\\\\\u091c\\\\\\\\u0947\\\\\\\\u0938\\\\\\\\u0928 \\\\\\\\u0905\\\\\\\\u091a\\\\\\\\u094d\\\\\\\\u091b\\\\\\\\u093e \\\\\\\\u0924\\\\\\\\u0941\\\\\\\\u092e \\\\\\\\u092d\\\\\\\\u0940 \\\\\\\\u092a\\\\\\\\u0942\\\\\\\\u0930\\\\\\\\u093e \\\\\\\\u0915\\\\\\\\u0930\\\\\\\\u0928\\\\\\\\u0947 \\\\\\\\u0915\\\\\\\\u0947 \\\\\\\\u0932\\\\\\\\u093f\\\\\\\\u090f \\\\\\\\u0906\\\\\\\\u092a \\\\\\\\u0905\\\\\\\\u091a\\\\\\\\u094d\\\\\\\\u091b\\\\\\\\u093e \\\\\\\\u092a\\\\\\\\u0942\\\\\\\\u0930\\\\\\\\u093e \\\\\\\\u0915\\\\\\\\u0930\\\\\\\\u0928\\\\\\\\u0947 \\\\\\\\u0915\\\\\\\\u0947 \\\\\\\\u0932\\\\\\\\u093f\\\\\\\\u090f \\\\\\\\u0915\\\\\\\\u0930 \\\\\\\\u0930\\\\\\\\u0939\\\\\\\\u093e \\\\\\\\u0939\\\\\\\\u0942\\\\\\\\u0901\"]\\''\n",
      "'[\"\\\\u092e\\\\u0948\\\\u0902 \\\\u091c\\\\u0947\\\\u0928\\\\u0940 \\\\u0939\\\\u0942\\\\u0901 \\\\u092e\\\\u0948\\\\u0902 \\\\u091c\\\\u0947\\\\u0938\\\\u0928 \\\\u0905\\\\u091a\\\\u094d\\\\u091b\\\\u093e \\\\u0924\\\\u0941\\\\u092e \\\\u092d\\\\u0940 \\\\u092a\\\\u0942\\\\u0930\\\\u093e \\\\u0915\\\\u0930\\\\u0928\\\\u0947 \\\\u0915\\\\u0947 \\\\u0932\\\\u093f\\\\u090f \\\\u0906\\\\u092a \\\\u0905\\\\u091a\\\\u094d\\\\u091b\\\\u093e \\\\u092a\\\\u0942\\\\u0930\\\\u093e \\\\u0915\\\\u0930\\\\u0928\\\\u0947 \\\\u0915\\\\u0947 \\\\u0932\\\\u093f\\\\u090f \\\\u0915\\\\u0930 \\\\u0930\\\\u0939\\\\u093e \\\\u0939\\\\u0942\\\\u0901\"]'\n"
     ]
    }
   ],
   "source": [
    "with open('translated_transcripts/transcript_results/mc1.mp3.txt.txt', encoding='utf-8') as f:\n",
    "  for line in f:\n",
    "    print(repr(line).encode('utf-8'))\n",
    "    print(u''+repr(line)+'')"
   ]
  },
  {
   "cell_type": "code",
   "execution_count": null,
   "metadata": {},
   "outputs": [],
   "source": []
  },
  {
   "cell_type": "code",
   "execution_count": null,
   "metadata": {},
   "outputs": [],
   "source": []
  }
 ],
 "metadata": {
  "kernelspec": {
   "display_name": "Python 3",
   "language": "python",
   "name": "python3"
  },
  "language_info": {
   "codemirror_mode": {
    "name": "ipython",
    "version": 3
   },
   "file_extension": ".py",
   "mimetype": "text/x-python",
   "name": "python",
   "nbconvert_exporter": "python",
   "pygments_lexer": "ipython3",
   "version": "3.7.1"
  }
 },
 "nbformat": 4,
 "nbformat_minor": 2
}
